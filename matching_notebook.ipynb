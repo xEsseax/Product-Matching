{
  "nbformat": 4,
  "nbformat_minor": 0,
  "metadata": {
    "colab": {
      "provenance": [],
      "authorship_tag": "ABX9TyPLnWi9rSFLfW5PmFKmARkz",
      "include_colab_link": true
    },
    "kernelspec": {
      "name": "python3",
      "display_name": "Python 3"
    },
    "language_info": {
      "name": "python"
    }
  },
  "cells": [
    {
      "cell_type": "markdown",
      "metadata": {
        "id": "view-in-github",
        "colab_type": "text"
      },
      "source": [
        "<a href=\"https://colab.research.google.com/github/xEsseax/Product-Matching/blob/main/matching_notebook.ipynb\" target=\"_parent\"><img src=\"https://colab.research.google.com/assets/colab-badge.svg\" alt=\"Open In Colab\"/></a>"
      ]
    },
    {
      "cell_type": "markdown",
      "source": [
        "# Разработка системы матчинга товаров"
      ],
      "metadata": {
        "id": "cPjn09dKuL4D"
      }
    },
    {
      "cell_type": "markdown",
      "source": [
        "План\n",
        "1. Введение\n",
        "2. Чтение и предварительный обзор данных\n",
        "3. Изучение распределений признаков, проверка на мультиколлинеарность, feature engineering\n",
        "4. Построение пайплайна модели и оптимизация\n",
        "5. Тестирование модели, сравнение с константной\n",
        "6. Заключение"
      ],
      "metadata": {
        "id": "O9vEpsa3uSw2"
      }
    },
    {
      "cell_type": "markdown",
      "source": [
        "## Введение\n",
        "Проект посвящён матчингу товаров: необходимо при просмотре товара пользователем предложить ему максимально близкий по характеристикам товар.\n",
        "\n",
        "Описание данных:\n",
        "\n",
        "- *base.csv* - анонимизированный набор товаров. Каждый товар представлен как уникальный id (0-base, 1-base, 2-base) и вектор признаков размерностью 72.\n",
        "- *target.csv -* обучающий датасет. Каждая строчка - один товар, для которого известен уникальный id (0-query, 1-query, …) , вектор признаков И id товара из *base.csv*, который максимально похож на него (по мнению экспертов).\n",
        "- *validation.csv* - датасет с товарами (уникальный id и вектор признаков), для которых надо найти наиболее близкие товары из *base.csv*\n",
        "- *validation_answer.csv* - правильные ответы к предыдущему файлу.\n",
        "\n",
        "target - целевой признак обучеющего датасета, представляющи собой один наиболее близкий товар, однако результат прогнозирования - набор из пяти наиболее близких объектов.\n",
        "\n",
        "Для оценки качества применяется метрика accuracy@5.\n",
        "Модель считается успешной, если accuracy > 0.8."
      ],
      "metadata": {
        "id": "ye7WdTCHwhqF"
      }
    },
    {
      "cell_type": "code",
      "execution_count": null,
      "metadata": {
        "id": "IaVMc_FVt9I2"
      },
      "outputs": [],
      "source": []
    }
  ]
}